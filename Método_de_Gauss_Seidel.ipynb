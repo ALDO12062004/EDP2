{
  "nbformat": 4,
  "nbformat_minor": 0,
  "metadata": {
    "colab": {
      "provenance": [],
      "authorship_tag": "ABX9TyP1PWJ9zgog/73ZfgQ59V/x",
      "include_colab_link": true
    },
    "kernelspec": {
      "name": "python3",
      "display_name": "Python 3"
    },
    "language_info": {
      "name": "python"
    }
  },
  "cells": [
    {
      "cell_type": "markdown",
      "metadata": {
        "id": "view-in-github",
        "colab_type": "text"
      },
      "source": [
        "<a href=\"https://colab.research.google.com/github/ALDO12062004/EDP2/blob/main/M%C3%A9todo_de_Gauss_Seidel.ipynb\" target=\"_parent\"><img src=\"https://colab.research.google.com/assets/colab-badge.svg\" alt=\"Open In Colab\"/></a>"
      ]
    },
    {
      "cell_type": "markdown",
      "source": [
        "#MÉTODO DE GAUSS-SEIDEL"
      ],
      "metadata": {
        "id": "MzqRdGeNUfnJ"
      }
    },
    {
      "cell_type": "markdown",
      "source": [
        "Se quiere resolver la ecuación de Laplace mediante métodos numéricos,\n",
        "Sea\n",
        "\n",
        "$$\\frac{\\partial ^2 U}{\\partial x^2}+\\frac{\\partial ^2 U}{\\partial y^2}=0$$\n",
        "\n",
        "con $$U(0,y)=0, \\quad U(2,y)=y(2-y) \\quad 0<y<2$$\n",
        "\n",
        "$$U(x,0)=0 \\quad U(x,2)=\\left\\{\\begin{matrix}\n",
        "x & \\text{ si } \\quad 0<x<1 \\\\\n",
        "2-x & \\text{ si } \\quad 1\\leq x<2 \\\\\n",
        "\\end{matrix}\\right.$$\n",
        "\n",
        "$$h=\\frac{1}{2}$$"
      ],
      "metadata": {
        "id": "e-mmTVjrUjMD"
      }
    },
    {
      "cell_type": "markdown",
      "source": [
        "Despejando las $U_{ij}$ se tiene\n",
        "\n",
        "$$U_{11}=\\frac{1}{4}U_{21}+\\frac{1}{4}U_{12}$$\n",
        "\n",
        "$$U_{21}=\\frac{1}{4}U_{11}+\\frac{1}{4}U_{31}+\\frac{1}{4}U_{22}$$\n",
        "\n",
        "$$U_{31}=\\frac{1}{4}U_{21}+\\frac{1}{4}U_{32}+\\frac{3}{16}$$\n",
        "\n",
        "$$U_{12}=\\frac{1}{4}U_{11}+\\frac{1}{4}U_{22}+\\frac{1}{4}U_{13}$$\n",
        "\n",
        "$$U_{22}=\\frac{1}{4}U_{21}+\\frac{1}{4}U_{12}+\\frac{1}{4}U_{32}+\\frac{1}{4}U_{23}$$\n",
        "\n",
        "$$U_{32}=\\frac{1}{4}U_{31}+\\frac{1}{4}U_{22}+\\frac{1}{4}U_{33}+\\frac{1}{4}$$\n",
        "\n",
        "$$U_{13}=\\frac{1}{4}U_{12}+\\frac{1}{4}U_{23}+\\frac{1}{8}$$\n",
        "\n",
        "$$U_{23}=\\frac{1}{4}U_{22}+\\frac{1}{4}U_{13}+\\frac{1}{4}U_{33}+\\frac{1}{4}$$\n",
        "\n",
        "$$U_{33}=\\frac{1}{4}U_{32}+\\frac{1}{4}U_{23}+\\frac{5}{16}$$"
      ],
      "metadata": {
        "id": "k7P_URkfUtzv"
      }
    },
    {
      "cell_type": "markdown",
      "source": [
        "En notación matricial $$U^{K+1}=TU^K+C$$\n",
        "\n",
        "$$U^{k+1}= \\left[\\begin{matrix}\n",
        "0 & \\frac{1}{4} & 0 & \\frac{1}{4} & 0&0 &0 &0 &0\\\\\n",
        "\\frac{1}{4} & 0 & \\frac{1}{4} & 0 & \\frac{1}{4}& 0& 0&0 & 0\\\\\n",
        "0 & \\frac{1}{4} & 0 & 0 & 0& \\frac{1}{4}&0 &0 &0 \\\\\n",
        "\\frac{1}{4} & 0 & 0 & 0 & \\frac{1}{4} &0 &\\frac{1}{4} & 0&0 \\\\\n",
        "0 & \\frac{1}{4} & 0 &\\frac{1}{4}  & 0&\\frac{1}{4} &0 &\\frac{1}{4} &0 \\\\\n",
        "0 & 0 & \\frac{1}{4} & 0 & \\frac{1}{4}&0 & 0&0 & \\frac{1}{4}\\\\\n",
        "0 & 0 & 0 & \\frac{1}{4} & 0&0 & 0& \\frac{1}{4}& 0\\\\\n",
        "0 & 0 & 0 & 0 & \\frac{1}{4} &0 &\\frac{1}{4} &0 &\\frac{1}{4} \\\\\n",
        "0 & 0 & 0 & 0 &0 & \\frac{1}{4}& 0& \\frac{1}{4}&0 \\\\\n",
        "\\end{matrix} \\right] \\left(\\begin{matrix}\n",
        "U_{11}^{k} \\\\\n",
        "U_{21}^{k}\\\\\n",
        "U_{31}^{k}\\\\\n",
        "U_{12}^{k}\\\\\n",
        "U_{22}^{k} \\\\\n",
        "U_{32}^{k}\\\\\n",
        "U_{13}^{k} \\\\\n",
        "U_{23}^{k}\\\\\n",
        "U_{33}^{k}\\\\\n",
        "\\end{matrix} \\right) +\\left(\\begin{matrix}\n",
        "0\\\\\n",
        "0\\\\\n",
        "\\frac{3}{4}\\\\\n",
        "0\\\\\n",
        "0\\\\\n",
        "1\\\\\n",
        "\\frac{1}{2}\\\\\n",
        "1\\\\\n",
        "\\frac{5}{4}\\\\\n",
        "\\end{matrix} \\right) $$"
      ],
      "metadata": {
        "id": "Gy3Ehg1BU-Hq"
      }
    },
    {
      "cell_type": "markdown",
      "source": [
        "Importamos las librerías para ejecutar el programa"
      ],
      "metadata": {
        "id": "Qp-njBlsVGaO"
      }
    },
    {
      "cell_type": "code",
      "source": [
        "import numpy as np #Para la realización de cálculos\n",
        "import pandas as pd #Para la tabla final"
      ],
      "metadata": {
        "id": "tzK4-CBhVJcz"
      },
      "execution_count": 3,
      "outputs": []
    },
    {
      "cell_type": "markdown",
      "source": [
        "Definimos la matriz $T$"
      ],
      "metadata": {
        "id": "rs8Rl0OzVTfB"
      }
    },
    {
      "cell_type": "code",
      "execution_count": 4,
      "metadata": {
        "id": "ZSSpPTMmQ5Y_"
      },
      "outputs": [],
      "source": [
        "T = np.array([[0, 1/4, 0, 1/4, 0, 0, 0, 0, 0],\n",
        "              [1/4, 0, 1/4, 0, 1/4, 0, 0, 0, 0],\n",
        "              [0, 1/4, 0, 0, 0, 1/4, 0, 0, 0],\n",
        "              [1/4, 0, 0, 0, 1/4, 0, 1/4, 0, 0],\n",
        "              [0, 1/4, 0, 1/4, 0, 1/4, 0, 1/4, 0],\n",
        "              [0, 0, 1/4, 0, 1/4, 0, 0, 0, 1/4],\n",
        "              [0, 0, 0, 1/4, 0, 0, 0, 1/4, 0],\n",
        "              [0, 0, 0, 0, 1/4, 0, 1/4, 0, 1/4],\n",
        "              [0, 0, 0, 0, 0, 1/4, 0, 1/4, 0],])"
      ]
    },
    {
      "cell_type": "markdown",
      "source": [
        "Definimos el vector $C$"
      ],
      "metadata": {
        "id": "okdot4JLVf-m"
      }
    },
    {
      "cell_type": "code",
      "source": [
        "c = np.array([0,0,3/4,0,0,1,1/2,1,5/4])"
      ],
      "metadata": {
        "id": "v9mxK2tIVmKq"
      },
      "execution_count": 5,
      "outputs": []
    },
    {
      "cell_type": "markdown",
      "source": [
        "Definimos el vector inicial $x_0$ para iniciar la iteraciones"
      ],
      "metadata": {
        "id": "FUxA2GDiVqrt"
      }
    },
    {
      "cell_type": "code",
      "source": [
        "x0 = np.array([9/32,9/32,9/32,9/32,9/32,9/32,9/32,9/32,9/32])"
      ],
      "metadata": {
        "id": "5-IJPjqbVvE9"
      },
      "execution_count": 6,
      "outputs": []
    },
    {
      "cell_type": "markdown",
      "source": [
        "Para una mejor ejecución del programa, realizamos el siguiente cambio:\n",
        "\n",
        "$$U_{11}=X_1$$\n",
        "$$U_{21}=X_2$$\n",
        "$$U_{31}=X_3$$\n",
        "$$U_{12}=X_4$$\n",
        "$$U_{22}=X_5$$\n",
        "$$U_{32}=X_6$$\n",
        "$$U_{13}=X_7$$\n",
        "$$U_{23}=X_8$$\n",
        "$$U_{33}=X_9$$"
      ],
      "metadata": {
        "id": "PyzSQc5vV2QU"
      }
    },
    {
      "cell_type": "markdown",
      "source": [
        "Definimos la tolerancia"
      ],
      "metadata": {
        "id": "cUlWaCrJWS21"
      }
    },
    {
      "cell_type": "code",
      "source": [
        "tol = 1e-4"
      ],
      "metadata": {
        "id": "xIpULhEkWWH2"
      },
      "execution_count": 7,
      "outputs": []
    },
    {
      "cell_type": "markdown",
      "source": [
        "Definimos el máximo número de iteraciones"
      ],
      "metadata": {
        "id": "gs0NbN_BWZbf"
      }
    },
    {
      "cell_type": "code",
      "source": [
        "max_iter = 1000"
      ],
      "metadata": {
        "id": "KlHZseWuZ4qx"
      },
      "execution_count": 8,
      "outputs": []
    },
    {
      "cell_type": "markdown",
      "source": [
        "Hacemos una tabla (vacía), que se llenará con los parámetros de cada iteración"
      ],
      "metadata": {
        "id": "e0UTrsFCaAzG"
      }
    },
    {
      "cell_type": "code",
      "source": [
        "tabla = []"
      ],
      "metadata": {
        "id": "UWTFKYDZaM1x"
      },
      "execution_count": 10,
      "outputs": []
    },
    {
      "cell_type": "markdown",
      "source": [
        "Iniciación de las iteraciones"
      ],
      "metadata": {
        "id": "nHLGPK5VaOaY"
      }
    },
    {
      "cell_type": "code",
      "source": [
        "iteracion = 1"
      ],
      "metadata": {
        "id": "lvbSWfC8aQvW"
      },
      "execution_count": 11,
      "outputs": []
    },
    {
      "cell_type": "markdown",
      "source": [
        "Definimos el error"
      ],
      "metadata": {
        "id": "P512LSJXaUVS"
      }
    },
    {
      "cell_type": "code",
      "source": [
        "error = tol + 1"
      ],
      "metadata": {
        "id": "azwdjVHSaWeL"
      },
      "execution_count": 12,
      "outputs": []
    },
    {
      "cell_type": "markdown",
      "source": [
        "Copiamos el valor de x"
      ],
      "metadata": {
        "id": "TKAtQSQVaYl8"
      }
    },
    {
      "cell_type": "code",
      "source": [
        "x = x0.copy()"
      ],
      "metadata": {
        "id": "Y5OZnDRyacc1"
      },
      "execution_count": 13,
      "outputs": []
    },
    {
      "cell_type": "markdown",
      "source": [
        "Realizamos el algoriritmo de Gauss - Seidel"
      ],
      "metadata": {
        "id": "oTF9OTFGakgZ"
      }
    },
    {
      "cell_type": "code",
      "source": [
        "while error > tol and iteracion <= max_iter: #Mientras se cumpla la condición hacer el proceso iterativo\n",
        "    x_ant = x.copy() #Reutilizamos el valor de x ya calculado\n",
        "\n",
        "    for i in range(len(x)): #para ir reeemplazando los x_i en la siguiente iteracion\n",
        "        suma = 0 #la suma inicia en 0\n",
        "        for j in range(len(x)):\n",
        "            if j != i:\n",
        "                suma += T[i, j] * x[j]\n",
        "        x[i] = suma + c[i]\n",
        "\n",
        "    error = np.linalg.norm(x - x_ant, ord=np.inf) #epsilon\n",
        "    tabla.append([iteracion, *x, error]) #Definimos los valores de la tabla\n",
        "    iteracion += 1 #Recorremos el valor de la iteración\n",
        "\n",
        "df = pd.DataFrame(tabla, columns=[\"Iteración\", \"x1\", \"x2\", \"x3\", \"x4\", \"x5\", \"x6\", \"x7\", \"x8\", \"x9\", \"Epsilon\"])\n",
        "print(df)"
      ],
      "metadata": {
        "colab": {
          "base_uri": "https://localhost:8080/"
        },
        "id": "tP06r0x1WTCu",
        "outputId": "637c6a5d-5156-4482-b919-53d1d579261c"
      },
      "execution_count": 14,
      "outputs": [
        {
          "output_type": "stream",
          "name": "stdout",
          "text": [
            "    Iteración        x1        x2        x3        x4        x5        x6  \\\n",
            "0           1  0.140625  0.175781  0.864258  0.175781  0.228516  1.343506   \n",
            "1           2  0.087891  0.295166  1.159668  0.232666  0.788086  1.963470   \n",
            "2           3  0.131958  0.519928  1.370850  0.449615  1.206543  2.197887   \n",
            "3           4  0.242386  0.704945  1.475708  0.633656  1.415771  2.305650   \n",
            "4           5  0.334650  0.806532  1.528046  0.735121  1.520386  2.358351   \n",
            "5           6  0.385413  0.858461  1.554203  0.787035  1.572693  2.384554   \n",
            "6           7  0.411374  0.884567  1.567280  0.813139  1.598846  2.397637   \n",
            "7           8  0.424427  0.897638  1.573819  0.826210  1.611923  2.404176   \n",
            "8           9  0.430962  0.904176  1.577088  0.832747  1.618462  2.407445   \n",
            "9          10  0.434231  0.907445  1.578723  0.836017  1.621731  2.409080   \n",
            "10         11  0.435865  0.909080  1.579540  0.837651  1.623365  2.409897   \n",
            "11         12  0.436683  0.909897  1.579948  0.838468  1.624183  2.410306   \n",
            "12         13  0.437091  0.910306  1.580153  0.838877  1.624591  2.410510   \n",
            "13         14  0.437296  0.910510  1.580255  0.839081  1.624796  2.410612   \n",
            "14         15  0.437398  0.910612  1.580306  0.839184  1.624898  2.410663   \n",
            "15         16  0.437449  0.910663  1.580332  0.839235  1.624949  2.410689   \n",
            "\n",
            "          x7        x8        x9   Epsilon  \n",
            "0   0.614258  1.281006  1.906128  1.624878  \n",
            "1   0.878418  1.893158  2.214157  0.619965  \n",
            "2   1.085693  2.126598  2.331121  0.418457  \n",
            "3   1.190063  2.234239  2.384972  0.209229  \n",
            "4   1.242340  2.286925  2.411319  0.104614  \n",
            "5   1.268490  2.313125  2.424420  0.052307  \n",
            "6   1.281566  2.326208  2.430961  0.026154  \n",
            "7   1.288104  2.332747  2.434231  0.013077  \n",
            "8   1.291374  2.336017  2.435865  0.006538  \n",
            "9   1.293008  2.337651  2.436683  0.003269  \n",
            "10  1.293826  2.338468  2.437091  0.001635  \n",
            "11  1.294234  2.338877  2.437296  0.000817  \n",
            "12  1.294439  2.339081  2.437398  0.000409  \n",
            "13  1.294541  2.339184  2.437449  0.000204  \n",
            "14  1.294592  2.339235  2.437474  0.000102  \n",
            "15  1.294617  2.339260  2.437487  0.000051  \n"
          ]
        }
      ]
    },
    {
      "cell_type": "markdown",
      "source": [
        "Definimos los parámetros que tendrá la tabla"
      ],
      "metadata": {
        "id": "TuvsBcclbJBc"
      }
    },
    {
      "cell_type": "code",
      "source": [
        "df = pd.DataFrame(tabla, columns=[\"Iteración\", \"x1\", \"x2\", \"x3\", \"x4\", \"x5\", \"x6\", \"x7\", \"x8\", \"x9\", \"Epsilon\"])"
      ],
      "metadata": {
        "id": "rBxrSCSSbJkl"
      },
      "execution_count": null,
      "outputs": []
    },
    {
      "cell_type": "markdown",
      "source": [
        "Agregamos un epsilon y comenzamos a iterar hasta que la distancia de $$x^{k+1}-x^k<tol$$"
      ],
      "metadata": {
        "id": "JCep7BuQblEb"
      }
    },
    {
      "cell_type": "markdown",
      "source": [
        "Imprimimos la tabla\n"
      ],
      "metadata": {
        "id": "vsQbS3UMbMaS"
      }
    },
    {
      "cell_type": "code",
      "source": [
        "print(df)"
      ],
      "metadata": {
        "id": "pufIjz1qbSM7"
      },
      "execution_count": null,
      "outputs": []
    }
  ]
}